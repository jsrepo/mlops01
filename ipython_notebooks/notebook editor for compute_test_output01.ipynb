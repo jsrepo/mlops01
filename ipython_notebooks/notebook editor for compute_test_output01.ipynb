{
  "metadata": {
    "kernelspec": {
      "name": "python3",
      "display_name": "Python 3",
      "language": "python"
    },
    "associatedRecipe": "compute_test_output01",
    "creator": "admin",
    "createdOn": 1636523007869,
    "tags": [
      "recipe-editor"
    ],
    "customFields": {},
    "hide_input": false,
    "language_info": {
      "name": "python",
      "version": "3.6.8",
      "mimetype": "text/x-python",
      "codemirror_mode": {
        "name": "ipython",
        "version": 3
      },
      "pygments_lexer": "ipython3",
      "nbconvert_exporter": "python",
      "file_extension": ".py"
    },
    "modifiedBy": "admin"
  },
  "nbformat": 4,
  "nbformat_minor": 1,
  "cells": [
    {
      "execution_count": 1,
      "cell_type": "code",
      "metadata": {},
      "source": [
        "# -*- coding: utf-8 -*-\nimport dataiku\nimport pandas as pd, numpy as np\nfrom dataiku import pandasutils as pdu"
      ],
      "outputs": []
    },
    {
      "execution_count": 2,
      "cell_type": "code",
      "metadata": {},
      "source": [
        "# Read recipe inputs\nwestnile_joined_by_Trap_prepared \u003d dataiku.Dataset(\"westnile_joined_by_Trap_prepared\")\nwestnile_joined_by_Trap_prepared_df \u003d westnile_joined_by_Trap_prepared.get_dataframe()"
      ],
      "outputs": []
    },
    {
      "execution_count": 0,
      "cell_type": "code",
      "metadata": {},
      "source": [
        "# Compute recipe outputs from inputs\n# TODO: Replace this part by your actual code that computes the output, as a Pandas dataframe\n# NB: DSS also supports other kinds of APIs for reading and writing data. Please see doc."
      ],
      "outputs": []
    },
    {
      "execution_count": 0,
      "cell_type": "code",
      "metadata": {},
      "source": [
        "test_output01_df \u003d westnile_joined_by_Trap_prepared_df # For this sample code, simply copy input to output\n\n\n# Write recipe outputs\ntest_output01 \u003d dataiku.Dataset(\"test_output01\")\ntest_output01.write_with_schema(test_output01_df)"
      ],
      "outputs": []
    }
  ]
}