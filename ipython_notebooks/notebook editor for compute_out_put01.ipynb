{
  "nbformat": 4,
  "nbformat_minor": 0,
  "metadata": {
    "kernelspec": {
      "display_name": "Python 3",
      "language": "python",
      "name": "python3"
    },
    "associatedRecipe": "compute_out_put01",
    "dkuGit": {
      "lastInteraction": 0
    },
    "creationTag": {
      "versionNumber": 0,
      "lastModifiedBy": {
        "login": "admin"
      },
      "lastModifiedOn": 1638324073327
    },
    "creator": "admin",
    "createdOn": 1638324073327,
    "tags": [
      "recipe-editor"
    ],
    "customFields": {}
  },
  "cells": [
    {
      "cell_type": "code",
      "metadata": {},
      "outputs": [],
      "execution_count": 0,
      "source": [
        "# -*- coding: utf-8 -*-\n",
        "import dataiku\n",
        "import pandas as pd, numpy as np\n",
        "from dataiku import pandasutils as pdu\n",
        "\n",
        "# Read recipe inputs\n",
        "westnile_joined_by_Trap_prepared \u003d dataiku.Dataset(\"westnile_joined_by_Trap_prepared\")\n",
        "westnile_joined_by_Trap_prepared_df \u003d westnile_joined_by_Trap_prepared.get_dataframe()\n",
        "\n",
        "#Test for Nanane\n",
        "\n",
        "# Compute recipe outputs from inputs\n",
        "# TODO: Replace this part by your actual code that computes the output, as a Pandas dataframe\n",
        "# NB: DSS also supports other kinds of APIs for reading and writing data. Please see doc.\n",
        "\n",
        "out_put01_df \u003d westnile_joined_by_Trap_prepared_df # For this sample code, simply copy input to output\n",
        "\n",
        "\n",
        "# Write recipe outputs\n",
        "out_put01 \u003d dataiku.Dataset(\"out_put01\")\n",
        "out_put01.write_with_schema(out_put01_df)"
      ]
    }
  ]
}