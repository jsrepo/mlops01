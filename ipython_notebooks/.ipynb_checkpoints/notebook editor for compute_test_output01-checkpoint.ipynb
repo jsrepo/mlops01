{
  "nbformat": 4,
  "nbformat_minor": 0,
  "metadata": {
    "kernelspec": {
      "display_name": "Python 3",
      "language": "python",
      "name": "python3"
    },
    "associatedRecipe": "compute_test_output01",
    "creator": "admin",
    "createdOn": 1636523007869,
    "tags": [
      "recipe-editor"
    ],
    "customFields": {}
  },
  "cells": [
    {
      "cell_type": "code",
      "metadata": {},
      "outputs": [],
      "execution_count": 0,
      "source": [
        "# -*- coding: utf-8 -*-\n",
        "import dataiku\n",
        "import pandas as pd, numpy as np\n",
        "from dataiku import pandasutils as pdu\n",
        "\n",
        "# Read recipe inputs\n",
        "westnile_joined_by_Trap_prepared \u003d dataiku.Dataset(\"westnile_joined_by_Trap_prepared\")\n",
        "westnile_joined_by_Trap_prepared_df \u003d westnile_joined_by_Trap_prepared.get_dataframe()\n",
        "\n",
        "\n",
        "# Compute recipe outputs from inputs\n",
        "# TODO: Replace this part by your actual code that computes the output, as a Pandas dataframe\n",
        "# NB: DSS also supports other kinds of APIs for reading and writing data. Please see doc.\n",
        "\n",
        "test_output01_df \u003d westnile_joined_by_Trap_prepared_df # For this sample code, simply copy input to output\n",
        "\n",
        "\n",
        "# Write recipe outputs\n",
        "test_output01 \u003d dataiku.Dataset(\"test_output01\")\n",
        "test_output01.write_with_schema(test_output01_df)"
      ]
    }
  ]
}